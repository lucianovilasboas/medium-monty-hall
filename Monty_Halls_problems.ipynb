{
 "cells": [
  {
   "cell_type": "markdown",
   "metadata": {},
   "source": [
    "# Brincando com estatística e probabilidades com o problema de Monty Hall \n",
    "\n",
    "<p>Resolver este problema não é algo inédito. Existem muitos e muitos sites, blogs, artigos, etc dedicados a explicar e explorar este domínio.</p> \n",
    "\n",
    "<p>Neste artigo, quero apenas [de]mo[n]strar, através de algumas simulações divertidas, como as chances do jogador podem aumentar ou diminuir dependendo das escolhas que o jogador fizer.</p>\n",
    "\n",
    "\n",
    "<p>O presente código, neste <i>Notebook</i>, simula através de uma demonstração empírica o problema e avalia as probabilidades associadas à cada situação apresentada ao jogador. Sejam elas:\n",
    "<p>1. Quais as chances, em termos de probabilidade, do jogador encontrar um carro se ele <b>sempre trocar de porta</b>?\n",
    "<p>2. E se o jogador permaner sempre com a primeira escolha, ou seja, <b>nunca trocar de porta</b>? \n",
    "<p>3. Avaliamos também a probabilidade associada se o jogador, aleatoriamente, <b>manter a porta escolhida ou trocar</b>. O que será que ocorre neste caso? Quais as suas chances? \n",
    "\n",
    "    \n",
    "<p>Se desjejar saber mais sobre o problema: <a href=\"https://en.wikipedia.org/wiki/Monty_Hall_problem\">Monty_Hall_problem</a></p>\n",
    "\n",
    "\n"
   ]
  },
  {
   "cell_type": "markdown",
   "metadata": {},
   "source": [
    "## Um enunciado para o problema\n",
    "<img src=\"Monty_hall_problem.jpg\"/>"
   ]
  },
  {
   "cell_type": "markdown",
   "metadata": {},
   "source": [
    "## Importando os módulos \n",
    "\n",
    "Neste caso usaremos apenas a bibloteca numpy do python"
   ]
  },
  {
   "cell_type": "code",
   "execution_count": 1,
   "metadata": {},
   "outputs": [],
   "source": [
    "# import das bibliotcas necessárias\n",
    "import numpy as np"
   ]
  },
  {
   "cell_type": "code",
   "execution_count": 2,
   "metadata": {},
   "outputs": [
    {
     "name": "stdout",
     "output_type": "stream",
     "text": [
      "O apresentador já sabe que o carro esta atrás da 3ª porta.\n"
     ]
    }
   ],
   "source": [
    "# Configurando a situação inicial para apresentação do problema ao jogador\n",
    "doors = np.array([0, 0, 0]) # Cria uma lista inicial\n",
    "doors[np.random.choice([0,1,2])] = 1 # escolhe aleatoriamente uma posição e atualiza para o valor 1 \n",
    "                                     # (colocando o carro atrás de uma das portas)\n",
    "\n",
    "print(\"O apresentador já sabe que o carro esta atrás da {}ª porta.\".format(np.where(doors==1)[0][0]+1))"
   ]
  },
  {
   "cell_type": "code",
   "execution_count": 3,
   "metadata": {},
   "outputs": [
    {
     "name": "stdout",
     "output_type": "stream",
     "text": [
      "O jogador escolheu a 1ª porta.\n"
     ]
    }
   ],
   "source": [
    "# Primeira escolha -> o jogador escolha a porta\n",
    "#i_choice_1 = np.random.randint(3, size=1)[0]\n",
    "i_choice_1 = np.random.choice([0,1,2])\n",
    "#i_choice_1 , #doors[i_choice_1]\n",
    "\n",
    "print(\"O jogador escolheu a {}ª porta.\".format(i_choice_1+1))"
   ]
  },
  {
   "cell_type": "code",
   "execution_count": 4,
   "metadata": {},
   "outputs": [
    {
     "name": "stdout",
     "output_type": "stream",
     "text": [
      " O apresentador abriu a 2ª porta.\n"
     ]
    }
   ],
   "source": [
    "# O apresentador abre uma porta (não escolhida pelo jogador) contendo um bode \n",
    "i_choice_x = [x for x in [0,1,2] if not x==i_choice_1 and not doors[x]==1]\n",
    "#print(\"i_choice_x\",i_choice_x)\n",
    "i_door_open = np.random.choice(i_choice_x)\n",
    "print(\" O apresentador abriu a {}ª porta.\".format(i_door_open+1))  "
   ]
  },
  {
   "cell_type": "code",
   "execution_count": 5,
   "metadata": {},
   "outputs": [
    {
     "name": "stdout",
     "output_type": "stream",
     "text": [
      " O jogador trocou de porta.\n"
     ]
    }
   ],
   "source": [
    "# Momento da Segunda escolha -> jogador. \n",
    "# O apresentador pergunta ao jogador se ele escolhe outra porta ou mantém a porta ecolhida\n",
    "# se for igual a True ele manteve a porta escolhida, caso contrário ele trocou de porta\n",
    "i_other_door = [x for x in [0,1,2] if x!=i_choice_1 and x!=i_door_open]\n",
    "#print('i_other_door',i_other_door)\n",
    "i_choice_2 = np.random.choice([i_choice_1, i_other_door[0]])\n",
    "print(\" O jogador {} porta.\".format(\"mantente a\" if (i_choice_2 == i_choice_1) else \"trocou de\"))"
   ]
  },
  {
   "cell_type": "code",
   "execution_count": 6,
   "metadata": {},
   "outputs": [
    {
     "name": "stdout",
     "output_type": "stream",
     "text": [
      "O jogador ganhou o CARRO.\n"
     ]
    }
   ],
   "source": [
    "# O Jogador, então, abre a porta escolhida.\n",
    "# Se for igual a 1 (True) ele ganhou o carro, caso contrário ele ganhou um bode.\n",
    "print(\"O jogador ganhou {}.\".format(\"o CARRO\" if doors[i_choice_2] == 1 else \"um BODE\"))"
   ]
  },
  {
   "cell_type": "markdown",
   "metadata": {},
   "source": [
    "## 1ª Simulação do Problema\n",
    "\n",
    "> O código abaixo cria uma função que executará uma simulação de um cenário completo para o jogo. <br>\n",
    "> O resultado será uma sequência de passos mostrando cada escolha do jogador e a ação do apresentador. <br>\n",
    "> Para cada escolha do jogador, a partir de cada interação com o apresentador, o resultado poderá ser diferente.<br>\n",
    "> Ou seja, o jogador poderá ou não ganhar o carro. Mas ele terá mais ou menos chances dependendo da escolha que fizer."
   ]
  },
  {
   "cell_type": "code",
   "execution_count": 7,
   "metadata": {},
   "outputs": [],
   "source": [
    "\n",
    "def monty_hall_problem1():\n",
    "    \n",
    "    print(\"O Jogo se inicia...\")\n",
    "    \n",
    "    doors_index = [0,1,2]\n",
    "    \n",
    "    # Configurando a situação inicial para apresentação do problema ao jogador\n",
    "    doors = np.array([0, 0, 0]) # Cria uma lista inicial\n",
    "    doors[np.random.choice(doors_index)] = 1 # escolhe aleatoriamente uma posição e atualiza para o valor 1 \n",
    "                                         # (colocando o carro atrás de uma das portas)\n",
    "    print(\"\\U0001f399\\uFE0F O apresentador sabe que o carro esta atrás da {}ª porta.\".format(np.where(doors==1)[0][0]+1))\n",
    "    \n",
    "    \n",
    "    # Momento da Primeira escolha -> o jogador escolha a porta\n",
    "    #i_choice_1 = np.random.randint(3, size=1)[0]\n",
    "    i_choice_1 = np.random.choice(doors_index)\n",
    "    print(\"\\U0001f64e O jogador escolheu a {}ª porta.\".format(i_choice_1+1))\n",
    "\n",
    "\n",
    "    # O apresentador abre uma porta (não escolhida pelo jogador) contendo um bode \n",
    "    i_choice_x = [x for x in doors_index if not x==i_choice_1 and not doors[x]==1]\n",
    "    #print(\"i_choice_x\",i_choice_x)\n",
    "    i_door_open = np.random.choice(i_choice_x)\n",
    "    print(\"\\U0001f399\\uFE0F O apresentador abriu a {}ª porta.\".format(i_door_open+1))    \n",
    "    \n",
    "\n",
    "    # Momento da Segunda escolha -> jogador. \n",
    "    # O apresentador pergunta ao jogador se ele escolhe outra porta ou mantém a porta ecolhida\n",
    "    # se for igual a True ele manteve a porta escolhida, caso contrário ele trocou de porta\n",
    "    i_other_door = [x for x in doors_index if x!=i_choice_1 and x!=i_door_open]\n",
    "    # print('i_other_door',i_other_door)\n",
    "    i_choice_2 = np.random.choice([i_choice_1,i_other_door[0]])\n",
    "    print(\"\\U0001f64e O jogador {} porta.\".format(\"mantenve a\" if (i_choice_2 == i_choice_1) else \"trocou de\"))    \n",
    "    \n",
    "    \n",
    "    # O Jogador, então, abre a porta escolhida.\n",
    "    # Se for igual a 1 (True) ele ganhou o carro, caso contrário ele ganhou um bode.\n",
    "    print(\"\\U0001f64e O jogador ganhou {}\".format(\"o \\U0001f697 \\U0001f929\" if doors[i_choice_2] == 1 else \"um \\U0001f410  \\U0001f62d\"))    "
   ]
  },
  {
   "cell_type": "code",
   "execution_count": 8,
   "metadata": {},
   "outputs": [
    {
     "name": "stdout",
     "output_type": "stream",
     "text": [
      "Rodada 1\n",
      "O Jogo se inicia...\n",
      "🎙️ O apresentador sabe que o carro esta atrás da 1ª porta.\n",
      "🙎 O jogador escolheu a 2ª porta.\n",
      "🎙️ O apresentador abriu a 3ª porta.\n",
      "🙎 O jogador mantenve a porta.\n",
      "🙎 O jogador ganhou um 🐐  😭\n",
      "--------------------\n",
      "Rodada 2\n",
      "O Jogo se inicia...\n",
      "🎙️ O apresentador sabe que o carro esta atrás da 2ª porta.\n",
      "🙎 O jogador escolheu a 3ª porta.\n",
      "🎙️ O apresentador abriu a 1ª porta.\n",
      "🙎 O jogador mantenve a porta.\n",
      "🙎 O jogador ganhou um 🐐  😭\n",
      "--------------------\n",
      "Rodada 3\n",
      "O Jogo se inicia...\n",
      "🎙️ O apresentador sabe que o carro esta atrás da 1ª porta.\n",
      "🙎 O jogador escolheu a 1ª porta.\n",
      "🎙️ O apresentador abriu a 2ª porta.\n",
      "🙎 O jogador mantenve a porta.\n",
      "🙎 O jogador ganhou o 🚗 🤩\n",
      "--------------------\n",
      "Rodada 4\n",
      "O Jogo se inicia...\n",
      "🎙️ O apresentador sabe que o carro esta atrás da 1ª porta.\n",
      "🙎 O jogador escolheu a 2ª porta.\n",
      "🎙️ O apresentador abriu a 3ª porta.\n",
      "🙎 O jogador mantenve a porta.\n",
      "🙎 O jogador ganhou um 🐐  😭\n",
      "--------------------\n",
      "Rodada 5\n",
      "O Jogo se inicia...\n",
      "🎙️ O apresentador sabe que o carro esta atrás da 3ª porta.\n",
      "🙎 O jogador escolheu a 3ª porta.\n",
      "🎙️ O apresentador abriu a 1ª porta.\n",
      "🙎 O jogador mantenve a porta.\n",
      "🙎 O jogador ganhou o 🚗 🤩\n",
      "--------------------\n",
      "Rodada 6\n",
      "O Jogo se inicia...\n",
      "🎙️ O apresentador sabe que o carro esta atrás da 1ª porta.\n",
      "🙎 O jogador escolheu a 1ª porta.\n",
      "🎙️ O apresentador abriu a 2ª porta.\n",
      "🙎 O jogador mantenve a porta.\n",
      "🙎 O jogador ganhou o 🚗 🤩\n",
      "--------------------\n",
      "Rodada 7\n",
      "O Jogo se inicia...\n",
      "🎙️ O apresentador sabe que o carro esta atrás da 1ª porta.\n",
      "🙎 O jogador escolheu a 1ª porta.\n",
      "🎙️ O apresentador abriu a 2ª porta.\n",
      "🙎 O jogador mantenve a porta.\n",
      "🙎 O jogador ganhou o 🚗 🤩\n",
      "--------------------\n"
     ]
    }
   ],
   "source": [
    "for i in range(1,8):\n",
    "    print(f\"Rodada {i}\")\n",
    "    monty_hall_problem1()\n",
    "    print(\"-\"*20)"
   ]
  },
  {
   "cell_type": "markdown",
   "metadata": {},
   "source": [
    "## 2ª Simulação do Problema\n",
    "\n",
    "> O código abaixo cria uma função que executará uma simulação para cada ecolha do jogador. <br>\n",
    "> O resultado da execução desta função retornará se o jogador ganhou o carro ou um bode. <br>\n",
    "> Para definir as escolha do jogador usaremos o valores 0 (zero), 1 (um) ou outro valor qualquer.<br>\n",
    "> * 0 - o jogador sempre trocará de porta;<br>\n",
    "> * 1 - o jogador nunca trocará de porta;<br>\n",
    "> * ? - o jogador fará uma escolha aleatória entre a porta autal e a outra porta.\n"
   ]
  },
  {
   "cell_type": "code",
   "execution_count": 9,
   "metadata": {},
   "outputs": [],
   "source": [
    "# essa função simula uma roda de escolhas para o problema \n",
    "\n",
    "def monty_hall_problem(change_door=0):\n",
    "    \"\"\"\n",
    "    change_door == 0 => sempre troca de porta\n",
    "    change_door == 1 => nunca troca de porta\n",
    "    change_door == other value => escolhe aleatoriamente entre a porta autal e a outra porta\n",
    "    \"\"\"\n",
    "    doors_index = [0, # 1ª porta\n",
    "                   1, # 2ª porta\n",
    "                   2] # 3ª porta\n",
    "    \n",
    "    # Configura a situação inicial\n",
    "    doors = np.array([0, 0, 0]) # Cria uma lista inicial com valores zero (bodes).\n",
    "    doors[np.random.choice(doors_index)] = 1 # escolhe aleatoriamente uma porta e atualiza para o valor 1 (carro).\n",
    "\n",
    "    # Momento da primeira escolha -> jogador escolhe aleatoriamente uma porta\n",
    "    door_1 = np.random.choice(doors_index)\n",
    "    \n",
    "    # Apresentador abre uma porta (dentre as duas opçoões disponíveis) contendo um 0 (bode).\n",
    "    # Nesse ponto, é importnate destacar que o apresentador tem a informação de onde está o carro.\n",
    "    door_x = np.random.choice([x for x in doors_index if x!=door_1 and doors[x]!=1]) # pega o elemento na posição 0 ou 1. \n",
    "    \n",
    "    # Esse passo serve para identificar a outra porta disponível ao jogador, excluindo a que ele já escolheu.\n",
    "    other_door = [x for x in doors_index if x!=door_1 and x!=door_x][0]\n",
    "    \n",
    "    # Momento da segunda escolha -> jogador. Ou ele muda de porta ou mantém a porta atual escolhida\n",
    "    if change_door == 0: # sempre troca de porta\n",
    "        door_2 = other_door\n",
    "    elif change_door == 1: # nunca troca de porta\n",
    "        door_2 = door_1\n",
    "    else: # troca ou não, de porta\n",
    "        door_2 = np.random.choice([door_1, other_door])\n",
    "        \n",
    "    # Abre a porta escolhida \n",
    "    return doors[door_2]"
   ]
  },
  {
   "cell_type": "code",
   "execution_count": 10,
   "metadata": {},
   "outputs": [
    {
     "name": "stdout",
     "output_type": "stream",
     "text": [
      "Se sempre trocar de porta.\n",
      "🙎 ganhou um 🚗 🤩\n",
      "🙎 ganhou um 🚗 🤩\n",
      "🙎 ganhou um 🚗 🤩\n",
      "🙎 ganhou um 🐐 😭\n",
      "🙎 ganhou um 🚗 🤩\n",
      "🙎 ganhou um 🐐 😭\n",
      "🙎 ganhou um 🚗 🤩\n",
      "🙎 ganhou um 🚗 🤩\n",
      "🙎 ganhou um 🐐 😭\n",
      "🙎 ganhou um 🚗 🤩\n"
     ]
    }
   ],
   "source": [
    "# Alguns testes \n",
    "\n",
    "print(\"Se sempre trocar de porta.\")\n",
    "for _ in range(10):\n",
    "    print(\"\\U0001f64e ganhou um \\U0001f697 \\U0001f929\" if monty_hall_problem(0) == 1 else \"\\U0001f64e ganhou um \\U0001f410 \\U0001f62d\")"
   ]
  },
  {
   "cell_type": "markdown",
   "metadata": {},
   "source": [
    "## Simulando 100 mil rodadas e avaliando os resultados"
   ]
  },
  {
   "cell_type": "code",
   "execution_count": 11,
   "metadata": {},
   "outputs": [
    {
     "name": "stdout",
     "output_type": "stream",
     "text": [
      "\n",
      "    Chances de ganhar se sempre trocar de porta:  67%\n",
      "    Chances de ganhar se nunca trocar de porta:   33%\n",
      "    Chances de ganhar se trocar ou não de porta:  50%\n",
      "    \n",
      "Wall time: 12.3 s\n"
     ]
    }
   ],
   "source": [
    "%%time \n",
    "n_runs = 100000\n",
    "\n",
    "r1 = sum([monty_hall_problem(0) for _ in range(n_runs) ])/n_runs*100 # sempre troca de porta\n",
    "r2 = sum([monty_hall_problem(1) for _ in range(n_runs) ])/n_runs*100 # nunca troca de porta\n",
    "r3 = sum([monty_hall_problem(2) for _ in range(n_runs) ])/n_runs*100 # troca ou não de porta\n",
    "\n",
    "print(\n",
    "    \"\"\"\n",
    "    Chances de ganhar se sempre trocar de porta: {0:3.0f}%\n",
    "    Chances de ganhar se nunca trocar de porta:  {1:3.0f}%\n",
    "    Chances de ganhar se trocar ou não de porta: {2:3.0f}%\n",
    "    \"\"\".format(r1, r2, r3) \n",
    ")"
   ]
  },
  {
   "cell_type": "markdown",
   "metadata": {},
   "source": [
    "## Plotando as simulações em um gráfico de barras"
   ]
  },
  {
   "cell_type": "code",
   "execution_count": 20,
   "metadata": {},
   "outputs": [
    {
     "data": {
      "image/png": "[encoded data removed]",
      "text/plain": [
       "<Figure size 1080x648 with 1 Axes>"
      ]
     },
     "metadata": {
      "needs_background": "light"
     },
     "output_type": "display_data"
    }
   ],
   "source": [
    "# código adaptado de: https://medium.com/towards-data-science/how-i-got-matplotlib-to-plot-apple-color-emojis-c983767b39e0\n",
    "\n",
    "import matplotlib.pyplot as plt, numpy as np\n",
    "from matplotlib.font_manager import FontProperties\n",
    "\n",
    "freqs = [r1, r2, r3]\n",
    "labels = [f'😆\\nTotal de vezes em\\n que ganhou sempre\\ntrocando de porta.\\n{r1:3.0f}%',\n",
    "          f'😡\\nTotal de vezes em\\n que ganhou nunca\\ntrocando de porta.\\n{r2:3.0f}%', \n",
    "          f'😐\\nTotal de vezes em\\n que ganhou trocando\\nou não de porta.\\n{r3:3.0f}%']\n",
    "\n",
    "plt.figure(figsize=(15,9))\n",
    "p1 = plt.bar(np.arange(len(labels)), freqs, 0.9, color=[\"blue\",\"red\",\"yellow\"])\n",
    "plt.ylim(0, plt.ylim()[1]+30)\n",
    "\n",
    "# Gerando os rótulos\n",
    "for rect1, label in zip(p1, labels):\n",
    "    height = rect1.get_height()\n",
    "    plt.annotate(\n",
    "        label,\n",
    "        (rect1.get_x() + rect1.get_width()/2, height+2),\n",
    "        ha=\"center\",\n",
    "        va=\"bottom\",\n",
    "        fontsize=25\n",
    "    )\n",
    "    \n",
    "plt.grid(True)\n",
    "plt.show()"
   ]
  },
  {
   "cell_type": "code",
   "execution_count": null,
   "metadata": {},
   "outputs": [],
   "source": []
  }
 ],
 "metadata": {
  "kernelspec": {
   "display_name": "Python 3 (ipykernel)",
   "language": "python",
   "name": "python3"
  },
  "language_info": {
   "codemirror_mode": {
    "name": "ipython",
    "version": 3
   },
   "file_extension": ".py",
   "mimetype": "text/x-python",
   "name": "python",
   "nbconvert_exporter": "python",
   "pygments_lexer": "ipython3",
   "version": "3.8.11"
  }
 },
 "nbformat": 4,
 "nbformat_minor": 2
}
